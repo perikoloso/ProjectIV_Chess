{
 "cells": [
  {
   "cell_type": "code",
   "execution_count": 1,
   "metadata": {},
   "outputs": [],
   "source": [
    "import chessdotcom as chess\n",
    "import requests\n",
    "import pandas as pd\n",
    "from pandas import json_normalize\n",
    "import json\n",
    "import time\n",
    "from datetime import datetime\n",
    "import chess.pgn\n",
    "import os\n",
    "import src.extraction as extraction"
   ]
  },
  {
   "cell_type": "code",
   "execution_count": 2,
   "metadata": {},
   "outputs": [],
   "source": [
    "df_countries = pd.read_csv(\"../Project IV - Chess/data/countries.csv\")\n",
    "columnas = [\"name\", \"alpha-2\"]\n",
    "df_countries = df_countries[['name', 'alpha-2']].copy()\n",
    "\n",
    "df_openings = pd.read_csv(\"../Project IV - Chess/data/openings.csv\")\n",
    "#df_openings.drop(columns=\"Unnamed: 0\" , inplace=True)\n",
    "\n"
   ]
  },
  {
   "cell_type": "markdown",
   "metadata": {},
   "source": [
    "### Get all players that their profile is inscribed as Catalonia\n",
    "\n",
    "- **Method:** Country Players\n",
    "- **Description:** List of usernames for players who identify themselves as being in this country.\n",
    "- **URL pattern:** https://api.chess.com/pub/country/{iso}/players'''"
   ]
  },
  {
   "cell_type": "code",
   "execution_count": 3,
   "metadata": {},
   "outputs": [],
   "source": [
    "# Get all players from Catalonia\n",
    "\n",
    "\n",
    "\n",
    "url = \"https://api.chess.com/pub/country/XC/players\"\n",
    "\n",
    "response = extraction.get_url(url)\n",
    "lista_players= response.json()\n",
    "df_catalan_players = pd.DataFrame(lista_players)\n",
    "df_catalan_players[\"Source\"]=\"Website\"\n",
    "\n"
   ]
  },
  {
   "cell_type": "code",
   "execution_count": 4,
   "metadata": {},
   "outputs": [],
   "source": [
    "#df_catalan_players = pd.read_csv(\"../Project IV - Chess/data/df_catalan_players.csv\")\n",
    "#df_catalan_players.drop(columns=\"Unnamed: 0\" , inplace=True)\n"
   ]
  },
  {
   "cell_type": "code",
   "execution_count": 5,
   "metadata": {},
   "outputs": [],
   "source": [
    "#Extending data players with Ironhackers\n",
    "\n",
    "l_ironhacks = [\n",
    "    \"sgtsamsara\",\n",
    "    \"folchinx\",\n",
    "    \"dopegaming\",\n",
    "    \"patizb\",\n",
    "    \"uricodina\",\n",
    "    \"clau14051994\",\n",
    "    \"imfap01\",\n",
    "]\n",
    "\n",
    "df_ironhacks = pd.DataFrame(l_ironhacks, columns=['players'])\n",
    "df_ironhacks[\"Source\"] = \"Ironhack\"\n",
    "df_catalan_players = pd.concat([df_catalan_players, df_ironhacks], ignore_index=True)\n",
    "df_catalan_players['players'] = df_catalan_players['players'].str.lower()\n",
    "df_catalan_players.to_csv(\"../Project IV - Chess/data/df_catalan_players.csv\", index=False)\n",
    "\n",
    "\n"
   ]
  },
  {
   "cell_type": "markdown",
   "metadata": {},
   "source": [
    "### Get all players profiles looping Catalonian players\n",
    "\n",
    "- **Method:** Player Profile\n",
    "- **Description:** Get additional details about a player in a game.\n",
    "- **URL pattern:** https://api.chess.com/pub/player/{username}\n",
    "- **Output**: df_profiles"
   ]
  },
  {
   "cell_type": "code",
   "execution_count": null,
   "metadata": {},
   "outputs": [],
   "source": [
    "# WARNING: This process can takes long time. Please, use next cell to load profiles.\n",
    "# Average time process: 22min\n",
    "\n",
    "df_profiles = extraction.get_profiles(df_catalan_players,\"df_player_profiles\")\n"
   ]
  },
  {
   "cell_type": "code",
   "execution_count": 6,
   "metadata": {},
   "outputs": [
    {
     "name": "stdout",
     "output_type": "stream",
     "text": [
      "<class 'pandas.core.frame.DataFrame'>\n",
      "RangeIndex: 3651 entries, 0 to 3650\n",
      "Data columns (total 16 columns):\n",
      " #   Column       Non-Null Count  Dtype  \n",
      "---  ------       --------------  -----  \n",
      " 0   player_id    3650 non-null   float64\n",
      " 1   @id          3650 non-null   object \n",
      " 2   url          3650 non-null   object \n",
      " 3   name         1789 non-null   object \n",
      " 4   username     3650 non-null   object \n",
      " 5   followers    3650 non-null   float64\n",
      " 6   country      3650 non-null   object \n",
      " 7   last_online  3650 non-null   object \n",
      " 8   joined       3650 non-null   object \n",
      " 9   status       3651 non-null   object \n",
      " 10  is_streamer  3650 non-null   object \n",
      " 11  verified     3650 non-null   object \n",
      " 12  league       3559 non-null   object \n",
      " 13  avatar       2177 non-null   object \n",
      " 14  title        7 non-null      object \n",
      " 15  message      1 non-null      object \n",
      "dtypes: float64(2), object(14)\n",
      "memory usage: 456.5+ KB\n"
     ]
    }
   ],
   "source": [
    "df_profiles = pd.read_csv(\"../Project IV - Chess/data/df_player_profiles.csv\")\n",
    "df_profiles.drop(columns=[\"Unnamed: 0\",\"location\"] , inplace=True)\n",
    "df_profiles.info()"
   ]
  },
  {
   "cell_type": "markdown",
   "metadata": {},
   "source": [
    "### Get Stats for every catalan player based on different games type\n",
    "\n",
    "- **Method:** Player Stats\n",
    "- **Description:** Get ratings, win/loss, and other stats about a player's game play, tactics, lessons and Puzzle Rush score.\n",
    "- **URL pattern:** https://api.chess.com/pub/player/{username}/stats\n",
    "- **Output**: df_player_stats"
   ]
  },
  {
   "cell_type": "code",
   "execution_count": 7,
   "metadata": {},
   "outputs": [],
   "source": [
    "#INTENSIVE PROCESS: WARNING! IT TAKES LONG TIME TO LOAD\n",
    "# PLEASE USE NEXT CELL TO LOAD EXISTING CSV\n",
    "# Average time process: 35 min\n",
    "\n",
    "df_player_stats = extraction.get_stats(df_catalan_players,\"df_player_stats\")\n",
    "  "
   ]
  },
  {
   "cell_type": "code",
   "execution_count": 7,
   "metadata": {},
   "outputs": [],
   "source": [
    "df_player_stats = pd.read_csv(\"../Project IV - Chess/data/df_player_stats.csv\")\n",
    "df_player_stats.drop(columns=\"Unnamed: 0\" , inplace=True)\n"
   ]
  },
  {
   "cell_type": "code",
   "execution_count": 8,
   "metadata": {},
   "outputs": [
    {
     "name": "stdout",
     "output_type": "stream",
     "text": [
      "<class 'pandas.core.frame.DataFrame'>\n",
      "RangeIndex: 3651 entries, 0 to 3650\n",
      "Data columns (total 9 columns):\n",
      " #   Column          Non-Null Count  Dtype  \n",
      "---  ------          --------------  -----  \n",
      " 0   chess_daily     2341 non-null   object \n",
      " 1   chess960_daily  431 non-null    object \n",
      " 2   chess_rapid     3445 non-null   object \n",
      " 3   chess_blitz     3207 non-null   object \n",
      " 4   tactics         3651 non-null   object \n",
      " 5   puzzle_rush     3651 non-null   object \n",
      " 6   player          3651 non-null   object \n",
      " 7   chess_bullet    2498 non-null   object \n",
      " 8   fide            1617 non-null   float64\n",
      "dtypes: float64(1), object(8)\n",
      "memory usage: 256.8+ KB\n"
     ]
    }
   ],
   "source": [
    "df_player_stats.info()"
   ]
  },
  {
   "cell_type": "markdown",
   "metadata": {},
   "source": [
    "### Getting all games details of every player\n",
    "\n",
    "- **Method:** get_player_games()\n",
    "- **Output**: df_all_detailed_stats"
   ]
  },
  {
   "cell_type": "code",
   "execution_count": 8,
   "metadata": {},
   "outputs": [
    {
     "ename": "KeyboardInterrupt",
     "evalue": "",
     "output_type": "error",
     "traceback": [
      "\u001b[0;31m---------------------------------------------------------------------------\u001b[0m",
      "\u001b[0;31mKeyboardInterrupt\u001b[0m                         Traceback (most recent call last)",
      "\u001b[1;32m/Users/pere/Documents/Ironhack/Projects/Project IV - Chess/main.ipynb Cell 14\u001b[0m line \u001b[0;36m5\n\u001b[1;32m      <a href='vscode-notebook-cell:/Users/pere/Documents/Ironhack/Projects/Project%20IV%20-%20Chess/main.ipynb#X16sZmlsZQ%3D%3D?line=0'>1</a>\u001b[0m \u001b[39m#  Using df_player_stats / df_player_iron_stats to extract data\u001b[39;00m\n\u001b[1;32m      <a href='vscode-notebook-cell:/Users/pere/Documents/Ironhack/Projects/Project%20IV%20-%20Chess/main.ipynb#X16sZmlsZQ%3D%3D?line=1'>2</a>\u001b[0m \u001b[39m# Average time process: 0.2 sec\u001b[39;00m\n\u001b[0;32m----> <a href='vscode-notebook-cell:/Users/pere/Documents/Ironhack/Projects/Project%20IV%20-%20Chess/main.ipynb#X16sZmlsZQ%3D%3D?line=4'>5</a>\u001b[0m df_all_detailed_stats \u001b[39m=\u001b[39m extraction\u001b[39m.\u001b[39;49mget_player_games(df_player_stats,\u001b[39m'\u001b[39;49m\u001b[39mdf_all_detailed_stats\u001b[39;49m\u001b[39m'\u001b[39;49m)\n",
      "File \u001b[0;32m~/Documents/Ironhack/Projects/Project IV - Chess/src/extraction.py:56\u001b[0m, in \u001b[0;36mget_player_games\u001b[0;34m(df, csv_name)\u001b[0m\n\u001b[1;32m     54\u001b[0m df[column]\u001b[39m.\u001b[39mdropna()\n\u001b[1;32m     55\u001b[0m game_type_df \u001b[39m=\u001b[39m pd\u001b[39m.\u001b[39mjson_normalize(df[column])\n\u001b[0;32m---> 56\u001b[0m game_type_df[\u001b[39m'\u001b[39m\u001b[39mgame_type\u001b[39m\u001b[39m'\u001b[39m] \u001b[39m=\u001b[39m column \n\u001b[1;32m     57\u001b[0m game_type_df[\u001b[39m'\u001b[39m\u001b[39mplayer\u001b[39m\u001b[39m'\u001b[39m] \u001b[39m=\u001b[39m df[\u001b[39m'\u001b[39m\u001b[39mplayer\u001b[39m\u001b[39m'\u001b[39m]\n\u001b[1;32m     58\u001b[0m game_type_dfs\u001b[39m.\u001b[39mappend(game_type_df)\n",
      "File \u001b[0;32m~/Documents/Ironhack/Projects/Project IV - Chess/src/extraction.py:56\u001b[0m, in \u001b[0;36mget_player_games\u001b[0;34m(df, csv_name)\u001b[0m\n\u001b[1;32m     54\u001b[0m df[column]\u001b[39m.\u001b[39mdropna()\n\u001b[1;32m     55\u001b[0m game_type_df \u001b[39m=\u001b[39m pd\u001b[39m.\u001b[39mjson_normalize(df[column])\n\u001b[0;32m---> 56\u001b[0m game_type_df[\u001b[39m'\u001b[39m\u001b[39mgame_type\u001b[39m\u001b[39m'\u001b[39m] \u001b[39m=\u001b[39m column \n\u001b[1;32m     57\u001b[0m game_type_df[\u001b[39m'\u001b[39m\u001b[39mplayer\u001b[39m\u001b[39m'\u001b[39m] \u001b[39m=\u001b[39m df[\u001b[39m'\u001b[39m\u001b[39mplayer\u001b[39m\u001b[39m'\u001b[39m]\n\u001b[1;32m     58\u001b[0m game_type_dfs\u001b[39m.\u001b[39mappend(game_type_df)\n",
      "File \u001b[0;32m_pydevd_bundle/pydevd_cython.pyx:1457\u001b[0m, in \u001b[0;36m_pydevd_bundle.pydevd_cython.SafeCallWrapper.__call__\u001b[0;34m()\u001b[0m\n",
      "File \u001b[0;32m_pydevd_bundle/pydevd_cython.pyx:701\u001b[0m, in \u001b[0;36m_pydevd_bundle.pydevd_cython.PyDBFrame.trace_dispatch\u001b[0;34m()\u001b[0m\n",
      "File \u001b[0;32m_pydevd_bundle/pydevd_cython.pyx:1395\u001b[0m, in \u001b[0;36m_pydevd_bundle.pydevd_cython.PyDBFrame.trace_dispatch\u001b[0;34m()\u001b[0m\n",
      "File \u001b[0;32m_pydevd_bundle/pydevd_cython.pyx:1344\u001b[0m, in \u001b[0;36m_pydevd_bundle.pydevd_cython.PyDBFrame.trace_dispatch\u001b[0;34m()\u001b[0m\n",
      "File \u001b[0;32m_pydevd_bundle/pydevd_cython.pyx:312\u001b[0m, in \u001b[0;36m_pydevd_bundle.pydevd_cython.PyDBFrame.do_wait_suspend\u001b[0;34m()\u001b[0m\n",
      "File \u001b[0;32m~/miniconda3/lib/python3.11/site-packages/debugpy/_vendored/pydevd/pydevd.py:2070\u001b[0m, in \u001b[0;36mPyDB.do_wait_suspend\u001b[0;34m(self, thread, frame, event, arg, exception_type)\u001b[0m\n\u001b[1;32m   2067\u001b[0m             from_this_thread\u001b[39m.\u001b[39mappend(frame_custom_thread_id)\n\u001b[1;32m   2069\u001b[0m     \u001b[39mwith\u001b[39;00m \u001b[39mself\u001b[39m\u001b[39m.\u001b[39m_threads_suspended_single_notification\u001b[39m.\u001b[39mnotify_thread_suspended(thread_id, thread, stop_reason):\n\u001b[0;32m-> 2070\u001b[0m         keep_suspended \u001b[39m=\u001b[39m \u001b[39mself\u001b[39;49m\u001b[39m.\u001b[39;49m_do_wait_suspend(thread, frame, event, arg, suspend_type, from_this_thread, frames_tracker)\n\u001b[1;32m   2072\u001b[0m frames_list \u001b[39m=\u001b[39m \u001b[39mNone\u001b[39;00m\n\u001b[1;32m   2074\u001b[0m \u001b[39mif\u001b[39;00m keep_suspended:\n\u001b[1;32m   2075\u001b[0m     \u001b[39m# This means that we should pause again after a set next statement.\u001b[39;00m\n",
      "File \u001b[0;32m~/miniconda3/lib/python3.11/site-packages/debugpy/_vendored/pydevd/pydevd.py:2106\u001b[0m, in \u001b[0;36mPyDB._do_wait_suspend\u001b[0;34m(self, thread, frame, event, arg, suspend_type, from_this_thread, frames_tracker)\u001b[0m\n\u001b[1;32m   2103\u001b[0m         \u001b[39mself\u001b[39m\u001b[39m.\u001b[39m_call_input_hook()\n\u001b[1;32m   2105\u001b[0m     \u001b[39mself\u001b[39m\u001b[39m.\u001b[39mprocess_internal_commands()\n\u001b[0;32m-> 2106\u001b[0m     time\u001b[39m.\u001b[39msleep(\u001b[39m0.01\u001b[39m)\n\u001b[1;32m   2108\u001b[0m \u001b[39mself\u001b[39m\u001b[39m.\u001b[39mcancel_async_evaluation(get_current_thread_id(thread), \u001b[39mstr\u001b[39m(\u001b[39mid\u001b[39m(frame)))\n\u001b[1;32m   2110\u001b[0m \u001b[39m# process any stepping instructions\u001b[39;00m\n",
      "\u001b[0;31mKeyboardInterrupt\u001b[0m: "
     ]
    }
   ],
   "source": [
    "#  Using df_player_stats / df_player_iron_stats to extract data\n",
    "# Average time process: 0.2 sec\n",
    "\n",
    "\n",
    "df_all_detailed_stats = extraction.get_player_games(df_player_stats,'df_all_detailed_stats')\n",
    "\n"
   ]
  },
  {
   "cell_type": "code",
   "execution_count": 10,
   "metadata": {},
   "outputs": [
    {
     "ename": "NameError",
     "evalue": "name 'df_all_detailed_stats' is not defined",
     "output_type": "error",
     "traceback": [
      "\u001b[0;31m---------------------------------------------------------------------------\u001b[0m",
      "\u001b[0;31mNameError\u001b[0m                                 Traceback (most recent call last)",
      "\u001b[1;32m/Users/pere/Documents/Ironhack/Projects/Project IV - Chess/main.ipynb Cell 15\u001b[0m line \u001b[0;36m1\n\u001b[0;32m----> <a href='vscode-notebook-cell:/Users/pere/Documents/Ironhack/Projects/Project%20IV%20-%20Chess/main.ipynb#X42sZmlsZQ%3D%3D?line=0'>1</a>\u001b[0m df_all_detailed_stats\u001b[39m.\u001b[39minfo()\n",
      "\u001b[0;31mNameError\u001b[0m: name 'df_all_detailed_stats' is not defined"
     ]
    }
   ],
   "source": [
    "df_all_detailed_stats.info()"
   ]
  },
  {
   "cell_type": "code",
   "execution_count": null,
   "metadata": {},
   "outputs": [],
   "source": [
    "df_all_detailed_stats.columns = df_all_detailed_stats.columns.str.replace('.', '_')\n",
    "\n",
    "to_df_all_detailed_columns = ['last_date', 'best_date','highest_date','lowest_date']\n",
    "for col in to_df_all_detailed_columns:\n",
    "    df_all_detailed_stats[col] = pd.to_datetime(df_all_detailed_stats[col], unit='s')\n",
    "df_all_detailed_stats.to_csv(\"../Project IV - Chess/data/df_all_detailed_stats.csv\")\n"
   ]
  },
  {
   "cell_type": "code",
   "execution_count": null,
   "metadata": {},
   "outputs": [],
   "source": [
    "\n",
    "df_all_detailed_stats = pd.read_csv(\"../Project IV - Chess/data/df_all_detailed_stats.csv\")\n",
    "df_all_detailed_stats.drop(columns=\"Unnamed: 0\" , inplace=True)\n",
    "\n"
   ]
  },
  {
   "cell_type": "code",
   "execution_count": null,
   "metadata": {},
   "outputs": [],
   "source": [
    "df_all_detailed_stats.info()"
   ]
  },
  {
   "cell_type": "markdown",
   "metadata": {},
   "source": [
    "### GET PLAYERS ARCHIVES"
   ]
  },
  {
   "cell_type": "code",
   "execution_count": null,
   "metadata": {},
   "outputs": [],
   "source": [
    "#INTENSIVE EXTRACTION DATA: PLEASE, USE LOAD CSV FILES\n",
    "# Average time process: 22 min\n",
    "\n",
    "df_archives_player = extraction.get_all_archives(df_catalan_players,\"df_archives_player\")\n",
    "\n"
   ]
  },
  {
   "cell_type": "code",
   "execution_count": null,
   "metadata": {},
   "outputs": [],
   "source": [
    "df_archives_player = pd.read_csv(\"../Project IV - Chess/data/df_archives_player.csv\")\n",
    "df_archives_player.drop(columns=\"Unnamed: 0\" , inplace=True)\n"
   ]
  },
  {
   "cell_type": "code",
   "execution_count": null,
   "metadata": {},
   "outputs": [],
   "source": []
  },
  {
   "cell_type": "markdown",
   "metadata": {},
   "source": [
    "### CAPTURING SOME GAMES FROM PLAYERS TO ANALYZE"
   ]
  },
  {
   "cell_type": "code",
   "execution_count": null,
   "metadata": {},
   "outputs": [],
   "source": [
    "# Capturing 1 month games (most recent) of all players.\n",
    "\n",
    "df_archives_player['Year'] = df_archives_player['Year'].astype(int)\n",
    "df_archives_player['Month'] = df_archives_player['Month'].astype(int)\n",
    "df_sorted = df_archives_player.sort_values(by=['Player', 'Year', 'Month'])\n",
    "df_most_recent = df_sorted.groupby('Player').tail(1)\n",
    "df_most_recent = df_most_recent.reset_index(drop=True)\n",
    "df_most_recent.to_csv(\"../Project IV - Chess/data/df_most_recent.csv\")"
   ]
  },
  {
   "cell_type": "markdown",
   "metadata": {},
   "source": [
    "### Get all PGN files for every player\n",
    "\n",
    "- **Method:** https://api.chess.com/pub/player/{player}/games/{year}/{month}/pgn\"\n",
    "- **Description:** \n",
    "- **Output**: PGN files"
   ]
  },
  {
   "cell_type": "code",
   "execution_count": null,
   "metadata": {},
   "outputs": [],
   "source": [
    "\n",
    "# Specify the target folder where the PGN files will be saved\n",
    "target_folder = '../Project IV - Chess/data/games/'\n",
    "tracking_files = []\n",
    "\n",
    "# Iterate over the DataFrame rows and download PGN files\n",
    "for index, row in df_most_recent.iterrows():\n",
    "    file_path = extraction.download_pgn(row['Player'], row['Year'], row['Month'], target_folder)\n",
    "    if file_path:\n",
    "        print(f\"Saved PGN to {file_path}\")\n",
    "        tracking_files.append({\n",
    "            \"Player\": row['Player'],\n",
    "            \"File\": file_path.replace('../Project IV - Chess/data/games/','')\n",
    "        })\n",
    "    #if index == 3:\n",
    "    #  break\n",
    "df_track = pd.DataFrame(tracking_files)\n",
    "df_track.to_csv(\"../Project IV - Chess/data/df_track_files.csv\")\n",
    "\n"
   ]
  },
  {
   "cell_type": "markdown",
   "metadata": {},
   "source": [
    "### PGN analysis with Python-Chess lib"
   ]
  },
  {
   "cell_type": "code",
   "execution_count": null,
   "metadata": {},
   "outputs": [],
   "source": [
    "#WARNING!!!!!!!\n",
    "# Average time process: 44 min\n",
    "\n",
    "all_games = []\n",
    "\n",
    "for index,row in df_track.iterrows():\n",
    "    file_in =\"../Project IV - Chess/data/games/\"+row[\"File\"]\n",
    "    for game in extraction.read_pgn_file(file_in):\n",
    "        \n",
    "        game_data = extraction.extract_game_data(game,row[\"Player\"])\n",
    "        all_games.append(game_data)\n",
    "\n",
    "    #if index == 5:\n",
    "    #     break\n",
    "\n",
    "df_all_games = pd.DataFrame(all_games)\n",
    "df_all_games = df_all_games.query(\"~Moves.str.startswith('Error', na=False)\")\n",
    "df_all_games.to_csv(\"../Project IV - Chess/data/all_games_details.csv\")\n"
   ]
  },
  {
   "cell_type": "code",
   "execution_count": 10,
   "metadata": {},
   "outputs": [],
   "source": [
    "df_all_games = pd.read_csv(\"../Project IV - Chess/data/all_games_details.csv\")\n"
   ]
  },
  {
   "cell_type": "code",
   "execution_count": 16,
   "metadata": {},
   "outputs": [
    {
     "name": "stdout",
     "output_type": "stream",
     "text": [
      "<class 'pandas.core.frame.DataFrame'>\n",
      "RangeIndex: 66 entries, 0 to 65\n",
      "Data columns (total 2 columns):\n",
      " #   Column   Non-Null Count  Dtype \n",
      "---  ------   --------------  ----- \n",
      " 0   Opening  66 non-null     object\n",
      " 1   Moves    66 non-null     object\n",
      "dtypes: object(2)\n",
      "memory usage: 1.2+ KB\n"
     ]
    }
   ],
   "source": [
    "df_openings = pd.read_csv(\"../Project IV - Chess/data/openings.csv\")\n",
    "df_openings.info()"
   ]
  },
  {
   "cell_type": "code",
   "execution_count": 23,
   "metadata": {},
   "outputs": [],
   "source": [
    "# Ensure the 'Opening' column exists in df_all_games\n",
    "if 'Opening' not in df_all_games.columns:\n",
    "    df_all_games['Opening'] = None  # or pd.NA for pandas' NA type\n",
    "\n",
    "# Iterate through each row of df_all_games\n",
    "for game_index, game_row in df_all_games.iterrows():\n",
    "    game_moves = game_row[\"Moves\"]\n",
    "    # Ensure that the game_moves is not NaN\n",
    "    if pd.notnull(game_moves):\n",
    "        # Iterate through each row of df_openings\n",
    "        for opening_index, opening_row in df_openings.iterrows():\n",
    "            opening_moves = opening_row[\"Moves\"]\n",
    "            # If the moves match, update the 'Opening' column\n",
    "            if pd.notnull(opening_moves) and opening_moves in game_moves:\n",
    "                df_all_games.at[game_index, 'Opening'] = opening_row[\"Opening\"]\n",
    "\n"
   ]
  },
  {
   "cell_type": "code",
   "execution_count": 30,
   "metadata": {},
   "outputs": [],
   "source": [
    "#df_all_games.drop(columns=\"Unnamed: 0\" , inplace=True)\n",
    "df_all_games.to_csv(\"../Project IV - Chess/data/all_games_details.csv\")\n"
   ]
  },
  {
   "cell_type": "code",
   "execution_count": 28,
   "metadata": {},
   "outputs": [],
   "source": [
    "# Passing data to database\n",
    "\n",
    "#datasets = [df_countries,df_openings,df_catalan_players,df_profiles,df_all_detailed_stats,df_archives_player,df_most_recent,df_track,df_all_games]\n",
    "#names = [\"df_countries\",\"df_openings\",\"df_catalan_players\",\"df_profiles\",\"df_all_detailed_stats\",\"df_archives_player\",\"df_most_recent\",\"df_track\",\"df_all_games\"]\n",
    "\n",
    "datasets = [df_all_games]\n",
    "names = [\"df_all_games\"]    \n",
    "extraction.connection_sql(l_datasets=datasets,l_names=names)"
   ]
  },
  {
   "cell_type": "markdown",
   "metadata": {},
   "source": []
  }
 ],
 "metadata": {
  "kernelspec": {
   "display_name": "base",
   "language": "python",
   "name": "python3"
  },
  "language_info": {
   "codemirror_mode": {
    "name": "ipython",
    "version": 3
   },
   "file_extension": ".py",
   "mimetype": "text/x-python",
   "name": "python",
   "nbconvert_exporter": "python",
   "pygments_lexer": "ipython3",
   "version": "3.11.4"
  }
 },
 "nbformat": 4,
 "nbformat_minor": 2
}
